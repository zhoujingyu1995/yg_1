{
 "cells": [
  {
   "cell_type": "markdown",
   "id": "29c99c11",
   "metadata": {},
   "source": [
    "## 题目1：请打印出所有的三位数\"水仙花数\"。\n",
    "所谓\"水仙花数\"是指一个三位数，其各位数字立方和等于该数本身。例如：153是一个\"水仙花数\"，因为153=1的三次方＋5的三次方＋3的三次方。"
   ]
  },
  {
   "cell_type": "code",
   "execution_count": 9,
   "id": "c5ae38d2",
   "metadata": {},
   "outputs": [
    {
     "name": "stdout",
     "output_type": "stream",
     "text": [
      "153 370 371 407\n"
     ]
    }
   ],
   "source": [
    "def sxf(a):\n",
    "    x=0\n",
    "    for i in str(a):\n",
    "        x+=int(i)**3\n",
    "    return(x)\n",
    "\n",
    "l=[]\n",
    "for i in range(100,1000):\n",
    "    b=sxf(i)\n",
    "    if b==i:\n",
    "        l.append(str(i))\n",
    "#print(l)        \n",
    "#合并成一个字符串打印   \n",
    "print(\" \".join(l))    \n",
    "#print(\" \".join(list(map(str,l))))    \n",
    "        \n"
   ]
  },
  {
   "cell_type": "code",
   "execution_count": 9,
   "id": "b4507482",
   "metadata": {},
   "outputs": [
    {
     "name": "stdout",
     "output_type": "stream",
     "text": [
      "153 370 371 407\n"
     ]
    }
   ],
   "source": [
    "def lfh(a):\n",
    "    x=0\n",
    "    for i in range(len(str(a))):\n",
    "        x+= int(str(a)[i])**3\n",
    "    return(x)\n",
    "\n",
    "l =[]\n",
    "for n in range(100,1000):\n",
    "    if n ==lfh(n):\n",
    "        l.append(n)\n",
    "#合并成一个字符串打印        \n",
    "print(\" \".join(list(map(str,l))))\n"
   ]
  },
  {
   "cell_type": "markdown",
   "id": "de039913",
   "metadata": {},
   "source": [
    "## 题目2：克拉兹猜想：\n",
    "任取一正整数，如果是偶数，将其除以2。如果是奇数，将其乘以3再加1，然后重复这个过程，最后结果都会陷入4 2 1 的循环。\n",
    "\n",
    " 比如序列：13, 40, 20, 10, 5, 16, 8, 4, 2, 1, 4, 2, 1\n",
    " \n",
    " 请通过编程实现，当4,2,1重复第二次的时候，结束循环。请输出以下3个序列：\n",
    " \n",
    " [13, 40, 20, 10, 5, 16, 8, 4, 2, 1, 4, 2, 1]\n",
    " \n",
    " [31, 94, 47, 142, 71, 214, 107, 322, 161, 484, 242, 121, 364, 182, 91, 274, 137, 412, 206, 103, 310, 155, 466, 233, 700, 350, 175, 526, 263, 790, 395, 1186, 593, 1780, 890, 445, 1336, 668, 334, 167, 502, 251, 754, 377, 1132, 566, 283, 850, 425, 1276, 638, 319, 958, 479, 1438, 719, 2158, 1079, 3238, 1619, 4858, 2429, 7288, 3644, 1822, 911, 2734, 1367, 4102, 2051, 6154, 3077, 9232, 4616, 2308, 1154, 577, 1732, 866, 433, 1300, 650, 325, 976, 488, 244, 122, 61, 184, 92, 46, 23, 70, 35, 106, 53, 160, 80, 40, 20, 10, 5, 16, 8, 4, 2, 1, 4, 2, 1]\n",
    " \n",
    " [101, 304, 152, 76, 38, 19, 58, 29, 88, 44, 22, 11, 34, 17, 52, 26, 13, 40, 20, 10, 5, 16, 8, 4, 2, 1, 4, 2, 1]"
   ]
  },
  {
   "cell_type": "code",
   "execution_count": 13,
   "id": "780413b7",
   "metadata": {},
   "outputs": [
    {
     "name": "stdout",
     "output_type": "stream",
     "text": [
      "[13, 40, 20, 10, 5, 16, 8, 4, 2, 1, 4, 2, 1]\n",
      "[31, 94, 47, 142, 71, 214, 107, 322, 161, 484, 242, 121, 364, 182, 91, 274, 137, 412, 206, 103, 310, 155, 466, 233, 700, 350, 175, 526, 263, 790, 395, 1186, 593, 1780, 890, 445, 1336, 668, 334, 167, 502, 251, 754, 377, 1132, 566, 283, 850, 425, 1276, 638, 319, 958, 479, 1438, 719, 2158, 1079, 3238, 1619, 4858, 2429, 7288, 3644, 1822, 911, 2734, 1367, 4102, 2051, 6154, 3077, 9232, 4616, 2308, 1154, 577, 1732, 866, 433, 1300, 650, 325, 976, 488, 244, 122, 61, 184, 92, 46, 23, 70, 35, 106, 53, 160, 80, 40, 20, 10, 5, 16, 8, 4, 2, 1, 4, 2, 1]\n",
      "[101, 304, 152, 76, 38, 19, 58, 29, 88, 44, 22, 11, 34, 17, 52, 26, 13, 40, 20, 10, 5, 16, 8, 4, 2, 1, 4, 2, 1]\n"
     ]
    }
   ],
   "source": [
    "def klz(n):\n",
    "    l =[n]\n",
    "    while n!=1:        \n",
    "        if n%2==0: #偶数\n",
    "            n=n//2  #整除\n",
    "        else: #奇数\n",
    "            n = 3*n+1\n",
    "        l.append(n)\n",
    "    \n",
    "    if l[0]<=2:\n",
    "        l.extend([4,2,1]*2)\n",
    "    else:\n",
    "        l.extend([4,2,1])\n",
    "    \n",
    "    return(l)\n",
    "\n",
    "\n",
    "#print(klz(int(input())))\n",
    "'''print(klz(4))\n",
    "print(klz(2))\n",
    "print(klz(1))\n",
    "'''\n",
    "print(klz(13))\n",
    "print(klz(31))\n",
    "print(klz(101))\n"
   ]
  },
  {
   "cell_type": "markdown",
   "id": "918677ad",
   "metadata": {},
   "source": [
    "## 题目3：出现次数排序。\n",
    " 给定一组数，按照数组中出现的次数依次从大到小排序，出现次数一样的按照数组中的先后顺序输出\n",
    " 比如：\n",
    " \n",
    " 输入：1 1 1 1 3 3 3 4 5 2 6 6 6 6 6\n",
    " \n",
    " 输出：6 6 6 6 6 1 1 1 1 3 3 3 4 5 2"
   ]
  },
  {
   "cell_type": "code",
   "execution_count": 46,
   "id": "5ae9aafd",
   "metadata": {},
   "outputs": [
    {
     "name": "stdout",
     "output_type": "stream",
     "text": [
      "4 5 2 6 6 6 6 6\n",
      "2743918378432\n",
      "2743918378432\n",
      "2743918378432\n",
      "2743918378432\n",
      "6 6 6 6 6 4 5 2\n"
     ]
    }
   ],
   "source": [
    "def asort(l):\n",
    "    di={}\n",
    "    for i in l: #统计每个元素的次数\n",
    "        if i in di.keys():\n",
    "            di[i]+=1\n",
    "        else:\n",
    "            di[i]=1\n",
    "    '''\n",
    "    a=di.items()\n",
    "    b=list(di.keys())\n",
    "    c=list(di.values())\n",
    "    print(a,type(a),len(a))\n",
    "    '''\n",
    "    #排序\n",
    "    di2=sorted(di.items(),key=lambda x:x[1],reverse=True)\n",
    "    #print(di2)\n",
    "    m=[]\n",
    "    for i in di2:\n",
    "        #li=[]\n",
    "        #li.append(i[0])   ###等价于 li=[i[0]]     \n",
    "        #li=[i[0]]*i[1]  \n",
    "        # key 转为数列，value统计值=复制次数 ; 例(6,5)  将6复制5次\n",
    "        m.extend([i[0]]*i[1])  #按统计次数循环  \n",
    "        #print(id(m))\n",
    "        #m=m+[i[0]]*i[1]\n",
    "        #print(id(m))\n",
    "    return(m)\n",
    "\n",
    "#inp='1 1 1 1 3 3 3 4 5 2 6 6 6 6 6'\n",
    "inp=input()\n",
    "l=list(map(int,inp.split()))\n",
    "m=asort(l)\n",
    "print(\" \".join(list(map(str,m))))"
   ]
  },
  {
   "cell_type": "code",
   "execution_count": 29,
   "id": "16f9997c",
   "metadata": {},
   "outputs": [
    {
     "data": {
      "text/plain": [
       "dict_items([(1, 4), (3, 3), (4, 1), (5, 1), (2, 1), (6, 5)])"
      ]
     },
     "execution_count": 29,
     "metadata": {},
     "output_type": "execute_result"
    }
   ],
   "source": [
    "inp='1 1 1 1 3 3 3 4 5 2 6 6 6 6 6'\n",
    "l=list(map(int,inp.split()))\n",
    "di={}\n",
    "for i in l: #统计每个元素的次数\n",
    "    if i in di.keys():\n",
    "        di[i]+=1\n",
    "    else:\n",
    "        di[i]=1"
   ]
  },
  {
   "cell_type": "code",
   "execution_count": 30,
   "id": "be862128",
   "metadata": {},
   "outputs": [
    {
     "data": {
      "text/plain": [
       "{1: 4, 3: 3, 4: 1, 5: 1, 2: 1, 6: 5}"
      ]
     },
     "execution_count": 30,
     "metadata": {},
     "output_type": "execute_result"
    }
   ],
   "source": [
    "di"
   ]
  },
  {
   "cell_type": "code",
   "execution_count": 31,
   "id": "8840a0f5",
   "metadata": {},
   "outputs": [
    {
     "data": {
      "text/plain": [
       "dict_items([(1, 4), (3, 3), (4, 1), (5, 1), (2, 1), (6, 5)])"
      ]
     },
     "execution_count": 31,
     "metadata": {},
     "output_type": "execute_result"
    }
   ],
   "source": [
    "di.items()"
   ]
  },
  {
   "cell_type": "code",
   "execution_count": 35,
   "id": "bcd26bf0",
   "metadata": {},
   "outputs": [
    {
     "name": "stdout",
     "output_type": "stream",
     "text": [
      "[6, 6, 6, 6, 6]\n",
      "[6, 6, 6, 6, 6, 1, 1, 1, 1]\n",
      "[6, 6, 6, 6, 6, 1, 1, 1, 1, 3, 3, 3]\n",
      "[6, 6, 6, 6, 6, 1, 1, 1, 1, 3, 3, 3, 4]\n",
      "[6, 6, 6, 6, 6, 1, 1, 1, 1, 3, 3, 3, 4, 5]\n",
      "[6, 6, 6, 6, 6, 1, 1, 1, 1, 3, 3, 3, 4, 5, 2]\n"
     ]
    }
   ],
   "source": [
    "di2=sorted(di.items(),key=lambda x:x[1],reverse=True)\n",
    "di2\n",
    "m=[]\n",
    "m=[]\n",
    "for i in di2:\n",
    "    '''for j in range(i[1]):\n",
    "        m.append(i[0])\n",
    "    '''\n",
    "    m.extend([i[0]]*i[1])\n",
    "\n"
   ]
  },
  {
   "cell_type": "code",
   "execution_count": 42,
   "id": "496432ba",
   "metadata": {},
   "outputs": [
    {
     "data": {
      "text/plain": [
       "[(1, 4), (2, 1), (3, 3), (4, 1), (5, 1), (6, 5)]"
      ]
     },
     "execution_count": 42,
     "metadata": {},
     "output_type": "execute_result"
    }
   ],
   "source": [
    "di3=sorted(di.items())\n",
    "di3"
   ]
  },
  {
   "cell_type": "markdown",
   "id": "4db0210b",
   "metadata": {},
   "source": [
    "## 题目4：汉诺塔。\n",
    "有三个立柱A、B、C。A柱上穿有大小不等的圆盘N个，较大的圆盘在下，较小的圆盘在上。要求把A柱上的圆盘全部移到C柱上，保持大盘在下、小盘在上的规律（可借助B柱）。每次移动只能把一个柱子最上面的圆盘移到另一个柱子的最上面。请输出移动过程。\n",
    "示例1\n",
    "输入\n",
    "3\n",
    "复制\n",
    "输出\n",
    "a->c\n",
    "a->b\n",
    "c->b\n",
    "a->c\n",
    "b->a\n",
    "b->c\n",
    "a->c"
   ]
  },
  {
   "cell_type": "code",
   "execution_count": 52,
   "id": "11edadf0",
   "metadata": {},
   "outputs": [
    {
     "name": "stdout",
     "output_type": "stream",
     "text": [
      "A -> C\n",
      "A -> B\n",
      "C -> B\n",
      "A -> C\n",
      "B -> A\n",
      "B -> C\n",
      "A -> C\n"
     ]
    }
   ],
   "source": [
    "def hnt(n,a,b,c):\n",
    "    #数量n 原始位置位于a，经b，至c\n",
    "    if n==1:\n",
    "        print(a,'->',c)  #将a位置的圆盘直接搬至c，完成\n",
    "    else:\n",
    "        hnt(n-1,a,c,b) ##递归，将a柱上n-1个圆盘经c搬至b\n",
    "        print(a,'->',c) #将a位置最后一个圆盘直接搬至c\n",
    "        hnt(n-1,b,a,c)  #递归，将b柱上n-1个圆盘经a搬至c\n",
    "\n",
    "hnt(3,'A','B','C')"
   ]
  },
  {
   "cell_type": "markdown",
   "id": "ed608130",
   "metadata": {},
   "source": [
    "## 题目5：字符串查找和比较。\n",
    "题目描述：写函数实现如下功能，给定字符串A和B,输出A和B中的最长公共子串。比如A=\"aocdfe\" B=\"pmcdfa\" 则输出\"cdf\"。"
   ]
  },
  {
   "cell_type": "code",
   "execution_count": 47,
   "id": "3300f210",
   "metadata": {},
   "outputs": [
    {
     "name": "stdout",
     "output_type": "stream",
     "text": [
      "6 0 aocdfe\n",
      "5 0 aocdf\n",
      "5 1 ocdfe\n",
      "4 0 aocd\n",
      "4 1 ocdf\n",
      "4 2 cdfe\n",
      "3 0 aoc\n",
      "3 1 ocd\n",
      "3 2 cdf\n",
      "3 3 dfe\n",
      "['cdf']\n"
     ]
    }
   ],
   "source": [
    "'''s1=A=input('A=')\n",
    "s2=B=input('B=')\n",
    "if len(s1)>len(s2):\n",
    "    s1,s2=s2,s1\n",
    "'''\n",
    "s1='aocdfe'\n",
    "s2=\"pmcdfa\"\n",
    "p=[]\n",
    "s=''\n",
    "for i in range(len(s1),0,-1): # 子串长度，递减\n",
    "    for j in range(len(s1)-i+1): #对于特定长度的子串，起始位置的范围\n",
    "        s=s1[j:j+i]\n",
    "        print(i,j,s) \n",
    "        if s in s2:\n",
    "            p.append(s)\n",
    "    if p:\n",
    "        break\n",
    "print(p) "
   ]
  },
  {
   "cell_type": "markdown",
   "id": "0a68dd1d",
   "metadata": {},
   "source": [
    "## 题目6：职工薪资排序\n",
    "某公司要针对员工情况统一调薪，现有一个员工列表，包含姓名、职级、工作年限、工资信息。现要求将该列表按以下规则重新排序：\n",
    "1、职级高的排在前面\n",
    "2、若职级相同，按工资少的排前面\n",
    "3、若工资相同，工作年限长的排前面\n",
    "第一行输入一个整数n，表示员工列表中员工的人数\n",
    "```\n",
    "6\n",
    "张三 3 3 3000\n",
    "李四 3 4 3000\n",
    "王五 3 3 4000\n",
    "赵六 4 3 3000\n",
    "陆奇 4 4 4000\n",
    "闫八 4 4 3980.99\n",
    "```\n",
    "输出：\n",
    "```\n",
    "赵六 4 3 3000.00\n",
    "闫八 4 4 3980.99\n",
    "陆奇 4 4 4000.00\n",
    "李四 3 4 3000.00\n",
    "张三 3 3 3000.00\n",
    "王五 3 3 4000.00\n",
    "```"
   ]
  },
  {
   "cell_type": "code",
   "execution_count": 53,
   "id": "6b938410",
   "metadata": {},
   "outputs": [
    {
     "name": "stdout",
     "output_type": "stream",
     "text": [
      "4\n",
      "张三 3 3 3000\n",
      "['张三', '3', '3', '3000']\n",
      "李四 3 4 3000\n",
      "['李四', '3', '4', '3000']\n",
      "王五 3 3 4000\n",
      "['王五', '3', '3', '4000']\n",
      "赵六 4 3 3000\n",
      "['赵六', '4', '3', '3000']\n",
      "赵六 4 3 3000.00\n",
      "李四 3 4 3000.00\n",
      "张三 3 3 3000.00\n",
      "王五 3 3 4000.00\n"
     ]
    }
   ],
   "source": [
    "n=int(input())\n",
    "persons=[]\n",
    "for i in range(n):\n",
    "    p=input().split()\n",
    "    print(p)\n",
    "    persons.append([p[0],int(p[1]),int(p[2]),float(p[3])])\n",
    "\n",
    "result = sorted(persons,key= lambda p:(p[1],-p[3],p[2]) , reverse=True)\n",
    "for x in result:\n",
    "    print(\"%s %d %s %.2f\" %(x[0],x[1],x[2],x[3]))"
   ]
  },
  {
   "cell_type": "markdown",
   "id": "9d463255",
   "metadata": {},
   "source": [
    "## 试题7：判断丑数\n",
    "给你一个整数，判断这个数是否为丑数。如果是输出True，如果不是输出False\n",
    "丑数定义：只包含质数2,3和或5的正整数，1通常被视为丑数。"
   ]
  },
  {
   "cell_type": "code",
   "execution_count": 57,
   "id": "d632dcc2",
   "metadata": {},
   "outputs": [
    {
     "name": "stdout",
     "output_type": "stream",
     "text": [
      "21\n",
      "False\n"
     ]
    }
   ],
   "source": [
    "def chou(n):\n",
    "    p={2:0,3:0,5:0} # 2、3、5几次\n",
    "    for i in [2,3,5]:\n",
    "        while n>1:\n",
    "            if n%i==0:\n",
    "                p[i]+=1  #i 计次+1 #（2,3,5）的幂次计数\n",
    "                n=n//i  #【商】扣除一个因数 \n",
    "            else:\n",
    "                break\n",
    "    if n==1:\n",
    "        print(True)\n",
    "    else:\n",
    "        print(False)\n",
    "\n",
    "chou(int(input()))"
   ]
  },
  {
   "cell_type": "markdown",
   "id": "3cf7e650",
   "metadata": {},
   "source": [
    "## 试题8：奏章排序\n",
    "某朝皇帝有大臣n名（1<=n<=1000），分别编号大臣1~n。某日皇帝身体抱恙，奏章堆积如山无法及时一一批阅，便命身旁內侍帮他把奏章按指定顺序排序后再阅。于是皇帝亲自挑选了几个值得信赖的重臣并排好序，要求把他们的奏章按排好的顺序放到前面，其他的按照编号升序排列即可。现在要求你写一个程序来帮皇上解决这个问题，即已知奏章总数和顺序、钦点重臣的排列顺序，求得皇帝查阅奏章的顺序。\n",
    "\n",
    "第一行输入两个整数p（1<=p<=5000）和q，其中p表示堆积奏章的总数、q表示皇帝钦点重臣数\n",
    "第二行输入p个数，表示所有按呈递顺序递上来的奏章来自于哪个大臣（大臣编号）\n",
    "第三行输入q个数，表示皇帝钦点并排好序的重臣编号\n",
    "\n",
    "输出奏章按指定顺序排好序后，皇帝按大臣编号批阅的顺序\n",
    "```\n",
    "7 24 5 3 2\n",
    "15 23 24 16 7 23 5 10 7 19 3 2 19 19 10 19 18\n",
    "p,q=16,5\n",
    "zouz=[15, 23, 24, 16, 7,23, 5, 10, 7, 19, 3, 2, 19, 19, 10, 19, 18]\n",
    "dach=[7, 24, 5, 3, 2]\n",
    "```"
   ]
  },
  {
   "cell_type": "code",
   "execution_count": 81,
   "id": "c2c06d69",
   "metadata": {},
   "outputs": [
    {
     "name": "stdout",
     "output_type": "stream",
     "text": [
      "7 7 24 19 19 19 19 3 2 15 23 16 23 5 10 10 18\n"
     ]
    }
   ],
   "source": [
    "#方法一\n",
    "'''\n",
    "str1=input().split()  #输入\n",
    "p=int(str1[0]) #奏章数\n",
    "q=int(str1[1]) #重臣数\n",
    "zchen = list(map(int,input().split())) #重臣列表\n",
    "zouz  = list(map(int,input().split())) #奏章列表\n",
    "'''\n",
    "p,q=16,5\n",
    "zouz=[15, 23, 24, 16, 7,23, 5, 10, 7, 19, 3, 2, 19, 19, 10, 19, 18]\n",
    "zchen=[7, 24, 19, 3, 2]\n",
    "newlist=[]\n",
    "for c in zchen:  #外循环\n",
    "    x=zouz.count(c) #奏章列表针对大臣c进行计数\n",
    "    for z in range(x):  #对该大臣的所有奏章循环处理，搬运到新队列\n",
    "        newlist.append(c)  #构造新的奏章列表:按大臣排序的\n",
    "        zouz.remove(c)     #原队列删除该大臣的一个奏章 ，利用循环删除所有\n",
    "newlist.extend(zouz) #将剩余大臣队列追加到新的奏章队列\n",
    "print(\" \".join(list(map(str,newlist))))\n",
    "\n",
    "         "
   ]
  },
  {
   "cell_type": "code",
   "execution_count": 80,
   "id": "ec3fa63c",
   "metadata": {},
   "outputs": [
    {
     "name": "stdout",
     "output_type": "stream",
     "text": [
      "7 7 24 19 19 19 19 3 2 15 23 16 23 5 10 10 18\n",
      "{7: 2, 24: 1, 19: 4, 3: 1, 2: 1}\n",
      "{7: 2, 24: 1, 19: 4, 3: 1, 2: 1}\n"
     ]
    }
   ],
   "source": [
    "#方法二: \n",
    "'''\n",
    "str1=input().split()  #输入\n",
    "p=int(str1[0]) #奏章数\n",
    "q=int(str1[1]) #重臣数\n",
    "zchen = list(map(int,input().split())) #重臣列表\n",
    "zouz  = list(map(int,input().split())) #奏章列表\n",
    "'''\n",
    "p,q=16,5\n",
    "zouz=[15, 23, 24, 16, 7,23, 5, 10, 7, 19, 3, 2, 19, 19, 10, 19, 18]\n",
    "zchen=[7, 24, 19, 3, 2]\n",
    "newlist=[]\n",
    "dach={}\n",
    "dach2={}\n",
    "\n",
    "for c in zchen:  #外循环\n",
    "    dach[c]=0\n",
    "    dach2[c]=zouz.count(c)\n",
    "    \n",
    "    #对所有奏章循环处理，搬运到新队列\n",
    "    '''\n",
    "    for z in zl:  #内循环的remove影响了循环次数 ，“19”有4次， 循环处理了3次  zl=zouz.copy()   \n",
    "        if z==c:\n",
    "    '''\n",
    "    #for i in range(len(zouz)):  #内循环的remove影响了zouz的边界，i从小到大增长，利用i可能导致超出边界，\n",
    "    for i in range(len(zouz)-1,0,-1):  #\n",
    "        if zouz[i]==c:    #i 循环从大到小，避免了列表index超界\n",
    "            newlist.append(c)  #构造新的奏章列表:按大臣排序的\n",
    "            dach[c]+=1\n",
    "            zouz.remove(c)     #原队列删除该大臣的一个奏章 ，利用循环删除所有\n",
    "newlist.extend(zouz) #将剩余大臣队列追加到新的奏章队列\n",
    "print(\" \".join(list(map(str,newlist))))\n",
    "print(dach)\n",
    "print(dach2)\n",
    "\n"
   ]
  },
  {
   "cell_type": "code",
   "execution_count": 79,
   "id": "1bfe4a7b",
   "metadata": {},
   "outputs": [
    {
     "name": "stdout",
     "output_type": "stream",
     "text": [
      "5\n",
      "4\n",
      "3\n",
      "2\n",
      "1\n"
     ]
    }
   ],
   "source": [
    "for i in range(5,0,-1):\n",
    "    print(i)"
   ]
  },
  {
   "cell_type": "markdown",
   "id": "1d514c64",
   "metadata": {},
   "source": [
    "## 试题9：交换变量"
   ]
  },
  {
   "cell_type": "code",
   "execution_count": 82,
   "id": "3058e478",
   "metadata": {},
   "outputs": [
    {
     "name": "stdout",
     "output_type": "stream",
     "text": [
      "5 3\n"
     ]
    }
   ],
   "source": [
    "a,b = 3,5\n",
    "a,b = b,a\n",
    "print (a,b)"
   ]
  },
  {
   "cell_type": "markdown",
   "id": "86e6e330",
   "metadata": {},
   "source": [
    "## 试题10：查找获取子进程列表\n",
    "题目描述\n",
    "某系统中有n个进程，每个进程都有自己唯一的进程id（PID），同时每个进程最多还有一个父进程，父进程id为（PPID），和一个或多个子进程。\n",
    "若某进程没有父进程，则PPID为0。 当某一进程被终止时，其子进程也将被终止。\n",
    "现给出进程id列表和起对应的父进程id列表，当要终止某一进程时，计算最终会终止哪些进程，并将要终止的PID按升序排列。\n",
    "输入描述：\n",
    "第一行输入两个整数n和k，n表示当前系统中运行的进程数；k表示要终止进程的PID\n",
    "第二行输入n个正整数，表示进程列表，每个整数表示进程的PID\n",
    "第三行输入n个正整数，表示进程列表中的进程对应的父进程PPID列表。\n",
    "输出描述：\n",
    "输出当进程k终止时，所有会被终止的进程PID，并按PID升序排列，每个PID用空格分隔。\n",
    "#### 例：\n",
    "输入：\n",
    "```\n",
    "4 5\n",
    "1 3 10 5\n",
    "3 0 5 3\n",
    "```\n",
    "输出：\n",
    "```\n",
    "5 10\n",
    "```\n"
   ]
  },
  {
   "cell_type": "code",
   "execution_count": 100,
   "id": "4026ac11",
   "metadata": {},
   "outputs": [
    {
     "name": "stdout",
     "output_type": "stream",
     "text": [
      "[5, 10, 14, 7]\n",
      "5 10 14 7\n"
     ]
    }
   ],
   "source": [
    "def getch(p,pl): #获取子进程\n",
    "    childs=[]\n",
    "    for i in pl.items():\n",
    "        if p==i[1]: #父进程\n",
    "            childs.append(i[0]) \n",
    "            x=getch(i[0],pl)\n",
    "            childs.extend(x)\n",
    "    return(childs)\n",
    "    \n",
    "    \n",
    "s1='4 5'\n",
    "s2='1 3 10 5 14 7'\n",
    "s3='3 0 5 3 10 5'\n",
    "k=int(s1.split()[1])\n",
    "p1=list(map(int,s2.split()))\n",
    "p2=list(map(int,s3.split()))\n",
    "pd={}\n",
    "for i in range(len(p1)):\n",
    "    pd[p1[i]]=p2[i] # 进程与父进程对应\n",
    "#根据进程k查找子进程\n",
    "\n",
    "klist=[k]\n",
    "klist.extend(getch(k,pd))\n",
    "\n",
    "print(klist)\n",
    "print(\" \".join(list(map(str,klist))))"
   ]
  },
  {
   "cell_type": "code",
   "execution_count": 89,
   "id": "787dc571",
   "metadata": {},
   "outputs": [
    {
     "name": "stdout",
     "output_type": "stream",
     "text": [
      "dict_items([(1, 3), (3, 0), (10, 5), (5, 3)])\n",
      "dict_keys([1, 3, 10, 5])\n",
      "dict_values([3, 0, 5, 3])\n"
     ]
    }
   ],
   "source": [
    "pd={1: 3, 3: 0, 10: 5, 5: 3}\n",
    "'''\n",
    "pl=pd.items()\n",
    "pk=pd.keys()\n",
    "pv=pd.values()\n",
    "print(pl)\n",
    "print(pk)\n",
    "print(pv)\n",
    "'''\n"
   ]
  },
  {
   "cell_type": "markdown",
   "id": "ef94bde8",
   "metadata": {},
   "source": [
    "## 试题11 罗马数字\n",
    "罗马数字包含以下七种字符: I， V， X， L，C，D 和 M。\n",
    "例如， 罗马数字 2 写做 II ，即为两个并列的 1 。12 写做 XII ，即为 X + II 。 27 写做 XXVII, 即为 XX + V + II 。\n",
    "\n",
    "通常情况下，罗马数字中小的数字在大的数字的右边。但也存在特例，例如 4 不写做 IIII，而是 IV。数字 1 在数字 5 的左边，所表示的数等于大数 5 减小数 1 得到的数值 4 。同样地，数字 9 表示为 IX。这个特殊的规则只适用于以下六种情况：\n",
    "- I 可以放在 V (5) 和 X (10) 的左边，来表示 4 和 9。\n",
    "- X 可以放在 L (50) 和 C (100) 的左边，来表示 40 和 90。\n",
    "- C 可以放在 D (500) 和 M (1000) 的左边，来表示 400 和 900。\n",
    "\n",
    "给定一个罗马数字，将其转换成整数。例： ixxxvii\n",
    "\n",
    "\n",
    "定义一个字典：\n",
    "\n",
    "|   Key   |   Value   |\n",
    "| ---- | ---- |\n",
    "|   I   |   1   |\n",
    "|   V   |   5   |\n",
    "|   X   |   10  |\n",
    "|   L   |   50  |\n",
    "|   C   |   100  |\n",
    "|   D   |   500 |\n",
    "|   M   |   1000 |\n",
    "\n",
    "输入一个罗马字母串：\n",
    "\n",
    "|  |  |  |  |  |  |  |\n",
    "| ---- | ---- | ---- | ---- | ---- | ---- | ---- |\n",
    "|i |x |x |x |v |i |i |\n",
    "\n",
    "翻译构建一个数列：\n",
    "\n",
    "> \\[1, 10, 10, 10, 5, 1, 1\\]\n",
    "\n",
    "对数列左右两两比对，左边数字小的要解释为负数：\n",
    "\n",
    "> \\[<font color=\"red\">-1</font>, 10, 10, 10, 5, 1, 1\\]"
   ]
  },
  {
   "cell_type": "code",
   "execution_count": 105,
   "id": "1f031fbe",
   "metadata": {},
   "outputs": [
    {
     "name": "stdout",
     "output_type": "stream",
     "text": [
      "XXVII\n",
      "27\n"
     ]
    }
   ],
   "source": [
    "roma={'I':1, 'V':5, 'X':10,'L':50,'C':100,'D':500,'M':1000 }\n",
    "strnum=input()\n",
    "num=0\n",
    "for i in range(len(strnum)): #外循环，从左往右扫描字符\n",
    "    x=strnum[i]\n",
    "    a=roma[x]\n",
    "    if i<len(strnum)-1: #不是最右字符，需要判断与右侧字符大小\n",
    "        y=strnum[i+1]\n",
    "        b=roma[y]\n",
    "        if a<b:\n",
    "            num-=a\n",
    "        else:\n",
    "            num+=a\n",
    "    else:\n",
    "        num+=a\n",
    "print(num)"
   ]
  },
  {
   "cell_type": "markdown",
   "id": "1c0ff433",
   "metadata": {},
   "source": [
    "## 试题12  股票每日报价\n",
    "给定某股票每日的报价和一个目标值，请在所有报价中找出和为目标值的那两天的报价，并打印出对应的报价。 \n",
    "假设每种输入只会对应一个答案，且每日的报价不会重复。\n",
    "\n",
    "你需要按报价<font color=\"red\">从小到大</font>的顺序打印答案。\n",
    "```\n",
    "输入：第一行是某股票每日的报价，这些报价是正整数且用空格相隔，例如：17 20 33\n",
    "第二行是目标值，例如：37\n",
    "输出：对应的报价，报价之间用空格相隔，例如：17 20\n",
    "```"
   ]
  },
  {
   "cell_type": "code",
   "execution_count": 111,
   "id": "50366795",
   "metadata": {},
   "outputs": [
    {
     "name": "stdout",
     "output_type": "stream",
     "text": [
      "17 20\n"
     ]
    }
   ],
   "source": [
    "'''baoj=list(map(int,input().split()))\n",
    "mubiao=int(input())\n",
    "'''\n",
    "baoj=[17, 20, 30, 21, 16, 25,18,19]\n",
    "mubiao=37\n",
    "x=[] #结果列表\n",
    "for i in range(len(baoj)):\n",
    "    for j in range(i+1,len(baoj)):\n",
    "        if baoj[i]+baoj[j]==mubiao:\n",
    "            x=[baoj[i],baoj[j]]\n",
    "            break\n",
    "    if x:\n",
    "        break\n",
    "#print(x)\n",
    "x.sort()  ##从小到大的顺序\n",
    "#print(x)\n",
    "if x:\n",
    "    print(\"%s %s\"%(x[0],x[1]))  ##报价之间用空格相隔\n",
    "else:\n",
    "    print('None')\n",
    "\n"
   ]
  },
  {
   "cell_type": "code",
   "execution_count": null,
   "id": "5629a931",
   "metadata": {},
   "outputs": [],
   "source": [
    "#方法二\n",
    "t=list(map(int,input().split())) #给定某股票每日的报价,输入转换为数字列表\n",
    "#print(t)\n",
    "target=int(input())  #给定某股票目标值\n",
    "\n",
    "for i in range(len(t)):\n",
    "    for j in range(i+1,len(t)):\n",
    "        if target==t[i]+t[j]:\n",
    "            a,b=min(t[i],t[j]),max(t[i],t[j])\n",
    "            print(a,b)"
   ]
  },
  {
   "cell_type": "markdown",
   "id": "39d96c21",
   "metadata": {},
   "source": [
    "## 试题13 尼姆博弈\n",
    "你和你的朋友，两个人一起玩 Nim 游戏：\n",
    "桌子上有一堆石头。\n",
    "你们轮流进行自己的回合，你作为先手。\n",
    "每一回合，轮到的人拿掉 1 - 3 块石头。\n",
    "拿掉最后一块石头的人就是获胜者。\n",
    "\n",
    "假设你们每一步都是最优解。请编写一个函数，来判断你是否可以在给定石头数量为 n 的情况下赢得游戏。如果可以赢，返回 true；否则，返回 false 。 输入整数n，输出True or False \n",
    "\n",
    "例：\n",
    "4 \n",
    "False"
   ]
  },
  {
   "cell_type": "code",
   "execution_count": 1,
   "id": "f726971e",
   "metadata": {},
   "outputs": [
    {
     "name": "stdout",
     "output_type": "stream",
     "text": [
      "40\n",
      "40\n",
      "False\n",
      "false\n"
     ]
    }
   ],
   "source": [
    "\n",
    "def game(n):\n",
    "    if n%4==0:\n",
    "        return(False)\n",
    "    else:\n",
    "        return(True)\n",
    "\n",
    "#n=int(input().replace('整数',''))\n",
    "n=int(input())\n",
    "print(n % 4 != 0)\n",
    "\n",
    "if game(n):\n",
    "    print('true')\n",
    "else:\n",
    "    print('false')"
   ]
  },
  {
   "cell_type": "markdown",
   "id": "b991ab65",
   "metadata": {},
   "source": [
    "## 试题14 求输入校验值\n",
    "输入n行，以输入单独行“#”为结束 每行输入字符A-Z以及空格；A-Z对应1-26，空格对应0； 求每行每个字符的值与位置（从1开始）的乘积和，并输出 \n",
    "\n",
    "例：输入 ACM\n",
    "\n",
    "输出 46"
   ]
  },
  {
   "cell_type": "code",
   "execution_count": null,
   "id": "15083583",
   "metadata": {},
   "outputs": [],
   "source": [
    "rsl=[]\n",
    "n=0\n",
    "s=input()\n",
    "while s!='#':\n",
    "    for i in range(len(s)):\n",
    "        if s[i]!=' ':\n",
    "            n+=(ord(s[i])-ord('A')+1)*(i+1)\n",
    "    rsl.append(n)\n",
    "    n=0\n",
    "    s=input()\n",
    "print(\" \".join(list(map(str,rsl))))\n",
    "     "
   ]
  },
  {
   "cell_type": "markdown",
   "id": "36ef2960",
   "metadata": {},
   "source": [
    "## L2 试题1： 输入n个数，输入k，求n各数中任意数的和能被k整除的组合的最大值，若无组合，输出-1\n"
   ]
  },
  {
   "cell_type": "code",
   "execution_count": 23,
   "id": "b20c09a5",
   "metadata": {},
   "outputs": [
    {
     "name": "stdout",
     "output_type": "stream",
     "text": [
      "7 [1, 2, 3, 4, 5, 6, 7]\n",
      "6 [2, 3, 4, 5, 6, 7]\n",
      "5 [3, 4, 5, 6, 7]\n"
     ]
    },
    {
     "ename": "ValueError",
     "evalue": "max() arg is an empty sequence",
     "output_type": "error",
     "traceback": [
      "\u001b[1;31m---------------------------------------------------------------------------\u001b[0m",
      "\u001b[1;31mValueError\u001b[0m                                Traceback (most recent call last)",
      "\u001b[1;32m<ipython-input-23-19f1c2fd2e8b>\u001b[0m in \u001b[0;36m<module>\u001b[1;34m\u001b[0m\n\u001b[0;32m     36\u001b[0m \u001b[1;31m#s=[1,2,3,4]\u001b[0m\u001b[1;33m\u001b[0m\u001b[1;33m\u001b[0m\u001b[1;33m\u001b[0m\u001b[0m\n\u001b[0;32m     37\u001b[0m \u001b[0mk\u001b[0m\u001b[1;33m=\u001b[0m\u001b[1;36m5\u001b[0m\u001b[1;33m\u001b[0m\u001b[1;33m\u001b[0m\u001b[0m\n\u001b[1;32m---> 38\u001b[1;33m \u001b[0mlz\u001b[0m\u001b[1;33m=\u001b[0m\u001b[0mgetm\u001b[0m\u001b[1;33m(\u001b[0m\u001b[0ms\u001b[0m\u001b[1;33m,\u001b[0m\u001b[0mk\u001b[0m\u001b[1;33m)\u001b[0m\u001b[1;33m\u001b[0m\u001b[1;33m\u001b[0m\u001b[0m\n\u001b[0m\u001b[0;32m     39\u001b[0m \u001b[0mprint\u001b[0m\u001b[1;33m(\u001b[0m\u001b[0mlz\u001b[0m\u001b[1;33m)\u001b[0m\u001b[1;33m\u001b[0m\u001b[1;33m\u001b[0m\u001b[0m\n\u001b[0;32m     40\u001b[0m \u001b[0ma\u001b[0m\u001b[1;33m=\u001b[0m\u001b[0mmax\u001b[0m\u001b[1;33m(\u001b[0m\u001b[0mlz\u001b[0m\u001b[1;33m.\u001b[0m\u001b[0mkeys\u001b[0m\u001b[1;33m(\u001b[0m\u001b[1;33m)\u001b[0m\u001b[1;33m)\u001b[0m\u001b[1;33m\u001b[0m\u001b[1;33m\u001b[0m\u001b[0m\n",
      "\u001b[1;32m<ipython-input-23-19f1c2fd2e8b>\u001b[0m in \u001b[0;36mgetm\u001b[1;34m(li, k)\u001b[0m\n\u001b[0;32m     20\u001b[0m             \u001b[0mlx\u001b[0m\u001b[1;33m.\u001b[0m\u001b[0mremove\u001b[0m\u001b[1;33m(\u001b[0m\u001b[0mi\u001b[0m\u001b[1;33m)\u001b[0m\u001b[1;33m\u001b[0m\u001b[1;33m\u001b[0m\u001b[0m\n\u001b[0;32m     21\u001b[0m \u001b[1;33m\u001b[0m\u001b[0m\n\u001b[1;32m---> 22\u001b[1;33m             \u001b[0mdx\u001b[0m\u001b[1;33m=\u001b[0m\u001b[0mgetm\u001b[0m\u001b[1;33m(\u001b[0m\u001b[0mlx\u001b[0m\u001b[1;33m,\u001b[0m\u001b[0mk\u001b[0m\u001b[1;33m)\u001b[0m\u001b[1;33m\u001b[0m\u001b[1;33m\u001b[0m\u001b[0m\n\u001b[0m\u001b[0;32m     23\u001b[0m             \u001b[1;32mfor\u001b[0m \u001b[0mj\u001b[0m \u001b[1;32min\u001b[0m \u001b[0mdx\u001b[0m\u001b[1;33m.\u001b[0m\u001b[0mkeys\u001b[0m\u001b[1;33m(\u001b[0m\u001b[1;33m)\u001b[0m\u001b[1;33m:\u001b[0m\u001b[1;33m\u001b[0m\u001b[1;33m\u001b[0m\u001b[0m\n\u001b[0;32m     24\u001b[0m                 \u001b[1;32mif\u001b[0m \u001b[0mj\u001b[0m\u001b[1;33m==\u001b[0m \u001b[0mmax\u001b[0m\u001b[1;33m(\u001b[0m\u001b[0mdl\u001b[0m\u001b[1;33m.\u001b[0m\u001b[0mkeys\u001b[0m\u001b[1;33m(\u001b[0m\u001b[1;33m)\u001b[0m\u001b[1;33m)\u001b[0m\u001b[1;33m:\u001b[0m\u001b[1;33m\u001b[0m\u001b[1;33m\u001b[0m\u001b[0m\n",
      "\u001b[1;32m<ipython-input-23-19f1c2fd2e8b>\u001b[0m in \u001b[0;36mgetm\u001b[1;34m(li, k)\u001b[0m\n\u001b[0;32m     22\u001b[0m             \u001b[0mdx\u001b[0m\u001b[1;33m=\u001b[0m\u001b[0mgetm\u001b[0m\u001b[1;33m(\u001b[0m\u001b[0mlx\u001b[0m\u001b[1;33m,\u001b[0m\u001b[0mk\u001b[0m\u001b[1;33m)\u001b[0m\u001b[1;33m\u001b[0m\u001b[1;33m\u001b[0m\u001b[0m\n\u001b[0;32m     23\u001b[0m             \u001b[1;32mfor\u001b[0m \u001b[0mj\u001b[0m \u001b[1;32min\u001b[0m \u001b[0mdx\u001b[0m\u001b[1;33m.\u001b[0m\u001b[0mkeys\u001b[0m\u001b[1;33m(\u001b[0m\u001b[1;33m)\u001b[0m\u001b[1;33m:\u001b[0m\u001b[1;33m\u001b[0m\u001b[1;33m\u001b[0m\u001b[0m\n\u001b[1;32m---> 24\u001b[1;33m                 \u001b[1;32mif\u001b[0m \u001b[0mj\u001b[0m\u001b[1;33m==\u001b[0m \u001b[0mmax\u001b[0m\u001b[1;33m(\u001b[0m\u001b[0mdl\u001b[0m\u001b[1;33m.\u001b[0m\u001b[0mkeys\u001b[0m\u001b[1;33m(\u001b[0m\u001b[1;33m)\u001b[0m\u001b[1;33m)\u001b[0m\u001b[1;33m:\u001b[0m\u001b[1;33m\u001b[0m\u001b[1;33m\u001b[0m\u001b[0m\n\u001b[0m\u001b[0;32m     25\u001b[0m                     \u001b[1;32mfor\u001b[0m \u001b[0mm\u001b[0m \u001b[1;32min\u001b[0m \u001b[0mdx\u001b[0m\u001b[1;33m[\u001b[0m\u001b[0mj\u001b[0m\u001b[1;33m]\u001b[0m\u001b[1;33m:\u001b[0m\u001b[1;33m\u001b[0m\u001b[1;33m\u001b[0m\u001b[0m\n\u001b[0;32m     26\u001b[0m                         \u001b[1;32mif\u001b[0m \u001b[0mm\u001b[0m \u001b[1;32mnot\u001b[0m \u001b[1;32min\u001b[0m \u001b[0mdl\u001b[0m\u001b[1;33m[\u001b[0m\u001b[0mj\u001b[0m\u001b[1;33m]\u001b[0m\u001b[1;33m:\u001b[0m\u001b[1;33m\u001b[0m\u001b[1;33m\u001b[0m\u001b[0m\n",
      "\u001b[1;31mValueError\u001b[0m: max() arg is an empty sequence"
     ]
    }
   ],
   "source": [
    "##解法一(doing)\n",
    "def getm(li,k):\n",
    "    print(len(li),li)\n",
    "    da=0 #可整除的和\n",
    "    db=[] #列表\n",
    "    dl={} # key=和：value=[[组合1],[组合2]]\n",
    "    su=sum(li)\n",
    "    if su%k==0:  ##整除\n",
    "        if su in dl.keys():\n",
    "            if li not in dl[su]:\n",
    "                dl[su].append(li)\n",
    "        else:\n",
    "            dl[su]=[li]\n",
    "        return(dl)\n",
    "    elif len(li)==1 or su<k: ##数组只有一个元素 或者数组和<k，结束递归\n",
    "        return({})  ##空集，无解\n",
    "    else: ##列表中减少一个元素，递归\n",
    "        for i in li: ##【1，2，3，4，6，7】，减1与减2，其解都是【3，4，6，7】，只应做一个解\n",
    "            lx=li.copy()\n",
    "            lx.remove(i)\n",
    "\n",
    "            dx=getm(lx,k)\n",
    "            for j in dx.keys():\n",
    "                if j== max(dl.keys()):\n",
    "                    for m in dx[j]:\n",
    "                        if m not in dl[j]:\n",
    "                            dl[j].append(m)\n",
    "                else:\n",
    "                    dl[j]=dx[j]\n",
    "    return(dl)\n",
    "        \n",
    "            \n",
    "    \n",
    "#s=list(map(int,input().split()))\n",
    "s=[1,2,3,4,5,6,7] # ,8,9,10,11,12,13,14,15,16,17,18,19,20,21]\n",
    "#s=[1,2,3,4]\n",
    "k=5\n",
    "lz=getm(s,k)\n",
    "print(lz)\n",
    "a=max(lz.keys())\n",
    "print('最大和=%s,%s个解，\\n组合=%s'%(a,len(lz[a]),lz[a]))\n"
   ]
  },
  {
   "cell_type": "code",
   "execution_count": 61,
   "id": "22b12571",
   "metadata": {},
   "outputs": [
    {
     "name": "stdout",
     "output_type": "stream",
     "text": [
      "5 [[1, 2, 2]]\n"
     ]
    }
   ],
   "source": [
    "##解法二(done)\n",
    "def getm(li,ki):\n",
    "    li.sort()\n",
    "    db=[] #题解列表，每个元素是li列表的子集\n",
    "    su=sum(li) #可整除的和\n",
    "    if su%ki==0:  ##整除\n",
    "        return (su,[li])\n",
    "    else:\n",
    "        su=0\n",
    "\n",
    "    ##列表中减少一个元素，递归\n",
    "    for x in li: ##【1，2，3，4，6，7】，减1与减2，其解都是【3，4，6，7】，只应做一个解\n",
    "        lx=li.copy()\n",
    "        lx.remove(x)\n",
    "        #print(lx)\n",
    "        if lx not in db:\n",
    "            sx,dx =getm(lx,ki)\n",
    "            if sx>su:\n",
    "                su=sx\n",
    "                db=dx\n",
    "            elif sx==su:\n",
    "                for j in dx:\n",
    "                    if j not in db:\n",
    "                        db.append(j)\n",
    "        \n",
    "    if su>0 and su%k==0:  ##整除\n",
    "        return(su,db)\n",
    "    else:\n",
    "        return(-1,[])\n",
    "    \n",
    "\n",
    "s=[1,2,2] # ,3,4,5,6,7,8,9,10,11,12,13,14,15,16,17,18,19,20,21]\n",
    "#s=[2,3,4]\n",
    "k=5\n",
    "su,db=getm(s,k)\n",
    "print(su,db)"
   ]
  },
  {
   "cell_type": "code",
   "execution_count": 65,
   "id": "12c2dc60",
   "metadata": {},
   "outputs": [
    {
     "name": "stdout",
     "output_type": "stream",
     "text": [
      "[1, 2, 2]\n",
      "[1, 2] []\n",
      "-1 []\n"
     ]
    }
   ],
   "source": [
    "def getm(li,ki):\n",
    "    li.sort()\n",
    "    db=[] #题解列表，每个元素是li列表的子集\n",
    "    su=sum(li) #可整除的和\n",
    "    if su%ki==0:  ##整除\n",
    "        return (su,[li])\n",
    "    else:\n",
    "        su=0\n",
    "\n",
    "    ##列表中减少一个元素，递归\n",
    "    for x in li: ##【1，2，3，4，6，7】，减1与减2，其解都是【3，4，6，7】，只应做一个解\n",
    "        lx=li.copy()\n",
    "        lx.remove(x)\n",
    "        #print(lx)\n",
    "        if lx not in db:\n",
    "            sx,dx =getm(lx,ki)\n",
    "            if sx>su:\n",
    "                su=sx\n",
    "                db=dx\n",
    "            elif sx==su:\n",
    "                for j in dx:\n",
    "                    if j not in db:\n",
    "                        db.append(j)\n",
    "        \n",
    "    if su>0 and su%k==0:  ##整除\n",
    "        return(su,db)\n",
    "    else:\n",
    "        return(-1,[])\n",
    "    \n",
    "\n",
    "s=[1,2,2] # ,3,4,5,6,7,8,9,10,11,12,13,14,15,16,17,18,19,20,21]\n",
    "#s=[2,3,4]\n",
    "k=5\n",
    "s1=[]\n",
    "print(s)\n",
    "for x in s: \n",
    "    if x%k==0:\n",
    "        s1.append(x)\n",
    "s=list(set(s)-set(s1))        \n",
    "print(s,s1)\n",
    "su,db=getm(s,k)\n",
    "if db:\n",
    "    for i in range(len(db)):\n",
    "        db[i].extend(s1)\n",
    "    su=sum(db[0])\n",
    "elif s1:\n",
    "    db=[s1]\n",
    "    su=sum(db[0])\n",
    "else:\n",
    "    su=-1\n",
    "print(su,db)"
   ]
  },
  {
   "cell_type": "code",
   "execution_count": null,
   "id": "2787fd65",
   "metadata": {},
   "outputs": [],
   "source": [
    "#s=list(map(int,input().split()))\n",
    "s=[1,2,3,4,5,6,7] # ,8,9,10,11,12,13,14,15,16,17,18,19,20,21]\n",
    "#s=[1,2,3,4]\n",
    "k=5\n",
    "d1={} #余数个数统计\n",
    "d2={} #每个数的余数\n",
    "for i in s:\n",
    "    yu=i%k\n",
    "    d2[i]=yu\n",
    "    if yu not in d1.keys():\n",
    "        d1[yu]=1\n",
    "    else:\n",
    "        dl[yu]+=1\n",
    "\n",
    "\n",
    "print(lz)\n",
    "a=max(lz.keys())\n",
    "print('最大和=%s,%s个解，\\n组合=%s'%(a,len(lz[a]),lz[a]))"
   ]
  },
  {
   "cell_type": "markdown",
   "id": "37ed2bc1",
   "metadata": {},
   "source": [
    "## L2 试题2： \n",
    "1.输入一个数值，代表字符长度\n",
    "2.输入一串小写字母字符\n",
    "\n",
    "输出分为两种\n",
    "一、输入字符不能排列成任意相邻两个字符均不同的字符串，输出\n",
    "“no”\n",
    "二、输入字符串能排列成一个任意相邻两个字符均不同的字符串，输出\n",
    "“yes\n",
    "其中一种字符串排列”\n",
    "\n",
    "\n",
    "例如：\n",
    "输入\n",
    "2\n",
    "aa\n",
    "\n",
    "输出\n",
    "no\n",
    "\n",
    "=========\n",
    "输入\n",
    "7\n",
    "aabbccc\n",
    "\n",
    "输出\n",
    "yes\n",
    "cabcbac"
   ]
  },
  {
   "cell_type": "code",
   "execution_count": 22,
   "id": "7a76f1ec",
   "metadata": {},
   "outputs": [
    {
     "data": {
      "text/plain": [
       "1"
      ]
     },
     "execution_count": 22,
     "metadata": {},
     "output_type": "execute_result"
    }
   ],
   "source": [
    "1"
   ]
  },
  {
   "cell_type": "markdown",
   "id": "8f2d4692",
   "metadata": {},
   "source": [
    "## 杨辉三角 ：\n",
    "1. 每行的个数=行数（第一行1个数，第二行2个数。。。）\n",
    "2. 每行的两端是1，中间是上一行相邻两个数的和\n",
    " \n",
    " 【输入】输入行数n\n",
    " \n",
    " 【输出】输出n行，每行n个数 ，如下：\n",
    " \n",
    "\n",
    "\n",
    "1\n",
    "\n",
    "1 1\n",
    "\n",
    "1 2 1\n",
    "\n",
    "1 3 3 1\n"
   ]
  },
  {
   "cell_type": "markdown",
   "id": "e1c73bf5",
   "metadata": {},
   "source": [
    "###  1、杨辉三角：递归版本"
   ]
  },
  {
   "cell_type": "code",
   "execution_count": 92,
   "id": "05c35c6b",
   "metadata": {},
   "outputs": [
    {
     "name": "stdout",
     "output_type": "stream",
     "text": [
      "1\n",
      "1 1\n",
      "1 2 1\n",
      "1 3 3 1\n",
      "1 4 6 4 1\n",
      "1 5 10 10 5 1\n",
      "1 6 15 20 15 6 1\n",
      "1 7 21 35 35 21 7 1\n",
      "1 8 28 56 70 56 28 8 1\n",
      "1 9 36 84 126 126 84 36 9 1\n"
     ]
    }
   ],
   "source": [
    "## 递归版本\n",
    "def yanghui(n):\n",
    "    r =[]\n",
    "    if n==1:\n",
    "        return([[1]])\n",
    "    ln=yanghui(n-1)  ##递归\n",
    "    \n",
    "    l =ln[len(ln)-1]\n",
    "\n",
    "    r.append(l[0])\n",
    "    x=l[0]\n",
    "    for i in range(1,len(l)):\n",
    "        r.append(x+l[i])\n",
    "        x=l[i]\n",
    "    r.append(l[len(l)-1])\n",
    "    \n",
    "    ln.append(r)\n",
    "    return(ln)\n",
    "\n",
    "a=yanghui(10)\n",
    "for i in range(len(a)):\n",
    "    print (\" \".join(list(map(str,a[i]))))\n",
    "        \n",
    "        "
   ]
  },
  {
   "cell_type": "markdown",
   "id": "c3526411",
   "metadata": {},
   "source": [
    "### 2、 杨辉三角：迭代器版本 "
   ]
  },
  {
   "cell_type": "code",
   "execution_count": 95,
   "id": "fa2f8bc5",
   "metadata": {},
   "outputs": [],
   "source": [
    "# 迭代器版本 杨辉三角\n",
    "def yhTriangles():  \n",
    "    L=[1]\n",
    "    while True:\n",
    "        yield L\n",
    "        L=[sum(i) for i in zip([0]+L,L+[0])]"
   ]
  },
  {
   "cell_type": "code",
   "execution_count": 101,
   "id": "4bf44807",
   "metadata": {},
   "outputs": [],
   "source": [
    "b=yhTriangles()"
   ]
  },
  {
   "cell_type": "code",
   "execution_count": 103,
   "id": "5a2b047e",
   "metadata": {},
   "outputs": [
    {
     "name": "stdout",
     "output_type": "stream",
     "text": [
      "[1]\n",
      "[1, 1]\n",
      "[1, 2, 1]\n",
      "[1, 3, 3, 1]\n",
      "[1, 4, 6, 4, 1]\n",
      "[1, 5, 10, 10, 5, 1]\n",
      "[1, 6, 15, 20, 15, 6, 1]\n",
      "[1, 7, 21, 35, 35, 21, 7, 1]\n",
      "[1, 8, 28, 56, 70, 56, 28, 8, 1]\n",
      "[1, 9, 36, 84, 126, 126, 84, 36, 9, 1]\n"
     ]
    }
   ],
   "source": [
    "for i in range(10):\n",
    "    print(next(b))"
   ]
  },
  {
   "cell_type": "code",
   "execution_count": 104,
   "id": "a6a50399",
   "metadata": {},
   "outputs": [
    {
     "data": {
      "text/plain": [
       "[1, 10, 45, 120, 210, 252, 210, 120, 45, 10, 1]"
      ]
     },
     "execution_count": 104,
     "metadata": {},
     "output_type": "execute_result"
    }
   ],
   "source": [
    "next(b)"
   ]
  },
  {
   "cell_type": "markdown",
   "id": "ec1fcce9",
   "metadata": {},
   "source": [
    "### 3、 杨辉三角：迭代器版本2"
   ]
  },
  {
   "cell_type": "code",
   "execution_count": 105,
   "id": "1708b235",
   "metadata": {},
   "outputs": [],
   "source": [
    "def triangles():  \n",
    "    L=[1]\n",
    "    while True:\n",
    "        yield L\n",
    "        for i in range(1,len(L)):\n",
    "            L[i]=pre[i]+pre[i-1]\n",
    "        L.append(1)\n",
    "        pre=L[:] #复制一份，L会变化"
   ]
  },
  {
   "cell_type": "code",
   "execution_count": 108,
   "id": "eef4e6d6",
   "metadata": {},
   "outputs": [],
   "source": [
    "c=triangles()\n"
   ]
  },
  {
   "cell_type": "code",
   "execution_count": 109,
   "id": "f437b274",
   "metadata": {},
   "outputs": [
    {
     "name": "stdout",
     "output_type": "stream",
     "text": [
      "[1]\n",
      "[1, 1]\n",
      "[1, 2, 1]\n"
     ]
    }
   ],
   "source": [
    "for i in range(3):\n",
    "    print(next(c))"
   ]
  },
  {
   "cell_type": "code",
   "execution_count": 110,
   "id": "aabd22c5",
   "metadata": {},
   "outputs": [
    {
     "data": {
      "text/plain": [
       "[1, 2, 1]"
      ]
     },
     "execution_count": 110,
     "metadata": {},
     "output_type": "execute_result"
    }
   ],
   "source": [
    "L=[1, 2, 1]\n",
    "pre=L[:]\n",
    "pre"
   ]
  },
  {
   "cell_type": "code",
   "execution_count": 111,
   "id": "294fc87d",
   "metadata": {},
   "outputs": [],
   "source": []
  },
  {
   "cell_type": "code",
   "execution_count": null,
   "id": "b2ab2eb0",
   "metadata": {},
   "outputs": [],
   "source": []
  }
 ],
 "metadata": {
  "kernelspec": {
   "display_name": "Python 3",
   "language": "python",
   "name": "python3"
  },
  "language_info": {
   "codemirror_mode": {
    "name": "ipython",
    "version": 3
   },
   "file_extension": ".py",
   "mimetype": "text/x-python",
   "name": "python",
   "nbconvert_exporter": "python",
   "pygments_lexer": "ipython3",
   "version": "3.8.8"
  }
 },
 "nbformat": 4,
 "nbformat_minor": 5
}
